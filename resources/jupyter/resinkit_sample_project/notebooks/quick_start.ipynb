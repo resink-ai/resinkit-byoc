{
 "cells": [
  {
   "cell_type": "code",
   "execution_count": null,
   "id": "359a5257",
   "metadata": {
    "vscode": {
     "languageId": "plaintext"
    }
   },
   "outputs": [],
   "source": [
    "import panel as pn\n",
    "\n",
    "pn.extension(\"tabulator\")\n",
    "pn.extension(\"codeeditor\")\n",
    "\n",
    "\n",
    "from resinkit.resinkit import Resinkit\n",
    "\n",
    "rs = Resinkit(base_url=\"http://localhost:8602\")\n",
    "rs.show_tasks_ui()"
   ]
  }
 ],
 "metadata": {
  "language_info": {
   "name": "python"
  }
 },
 "nbformat": 4,
 "nbformat_minor": 5
}
